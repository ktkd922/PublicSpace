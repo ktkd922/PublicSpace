{
 "cells": [
  {
   "cell_type": "code",
   "execution_count": 17,
   "metadata": {},
   "outputs": [
    {
     "name": "stdout",
     "output_type": "stream",
     "text": [
      "return_oneの実行\n",
      "開始: 2022-07-27 10:35:50.257926\n",
      "修了: 2022-07-27 10:35:50.258023\n",
      "実行結果: 1\n"
     ]
    },
    {
     "data": {
      "text/plain": [
       "1"
      ]
     },
     "execution_count": 17,
     "metadata": {},
     "output_type": "execute_result"
    }
   ],
   "source": [
    "from datetime import datetime as dt\n",
    "\n",
    "def my_logger(func):\n",
    "    def _wrapper(*args, **kwargs):\n",
    "        print(f'{func.__name__}の実行')\n",
    "        print(f'開始: {dt.now()}')\n",
    "\n",
    "        res = func(*args, **kwargs)\n",
    "\n",
    "        print(f'修了: {dt.now()}')\n",
    "        print(f'実行結果: {res}')\n",
    "\n",
    "        return res\n",
    "    return _wrapper\n",
    "\n",
    "\n",
    "@my_logger\n",
    "def return_one():\n",
    "    return 1\n",
    "\n",
    "\n",
    "return_one()"
   ]
  }
 ],
 "metadata": {
  "kernelspec": {
   "display_name": "Python 3.9.13 64-bit",
   "language": "python",
   "name": "python3"
  },
  "language_info": {
   "codemirror_mode": {
    "name": "ipython",
    "version": 3
   },
   "file_extension": ".py",
   "mimetype": "text/x-python",
   "name": "python",
   "nbconvert_exporter": "python",
   "pygments_lexer": "ipython3",
   "version": "3.9.13"
  },
  "orig_nbformat": 4,
  "vscode": {
   "interpreter": {
    "hash": "aee8b7b246df8f9039afb4144a1f6fd8d2ca17a180786b69acc140d282b71a49"
   }
  }
 },
 "nbformat": 4,
 "nbformat_minor": 2
}
