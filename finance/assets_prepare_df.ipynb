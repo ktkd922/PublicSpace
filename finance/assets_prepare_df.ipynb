{
 "cells": [
  {
   "cell_type": "markdown",
   "id": "8093bfa6",
   "metadata": {},
   "source": [
    "参考ページ：https://cream-kuchen.hatenablog.com/entry/efficient_portfolio_pyportfolioopt"
   ]
  },
  {
   "cell_type": "code",
   "execution_count": 2,
   "id": "fffe318f-7187-48f9-814f-e98e50cb78c6",
   "metadata": {},
   "outputs": [],
   "source": [
    "import pandas as pd\n",
    "from datetime import datetime\n",
    "\n",
    "# 投資信託のデータを取得する関数\n",
    "def get_data(ISIN, FUND):\n",
    "    \"\"\"\n",
    "    引数\n",
    "    ISIN ... ファンドのISINコード (ファンド検索して[ISIN]を探す: https://www.jasdec.com/reading/itmei.php)\n",
    "    FUND ... ファンドコード (ファンド検索して[ファンドの特色]右上を探す: https://www.morningstar.co.jp/FundData/DetailSearchResult.do?mode=1)\n",
    "    戻値\n",
    "    df ... 基準価額や純資産総額のpandasデータフレーム\n",
    "    \"\"\"\n",
    "    # csvダウンロードするURLを作成し読み込む\n",
    "    BASEURL = \"https://toushin-lib.fwg.ne.jp/FdsWeb/FDST030000/csv-file-download?\"\n",
    "    ISINcd  = \"isinCd=\"+ISIN\n",
    "    FUNDcd  = \"associFundCd=\"+FUND\n",
    "    DOWNURL = BASEURL+ISINcd+\"&\"+FUNDcd\n",
    "    # 日付カラムを加工してデータ取得\n",
    "    DATE_PARSE = lambda date: datetime.strptime(date, \"%Y年%m月%d日\")\n",
    "    df = pd.read_csv(DOWNURL, engine=\"python\", encoding=\"shift-jis\", index_col=\"年月日\", parse_dates=True, date_parser=DATE_PARSE)\n",
    "    return df"
   ]
  },
  {
   "cell_type": "code",
   "execution_count": 3,
   "id": "65951edc-0182-4a45-8e5f-62ad04f90d8d",
   "metadata": {},
   "outputs": [],
   "source": [
    "# 8つの資産クラスのデータ取得\n",
    "df_jpn_stck = get_data(ISIN=\"JP90C000BRT6\", FUND=\"29312154\")  # 国内株式     (ニッセイTOPIX)\n",
    "df_jpn_bond = get_data(ISIN=\"JP90C000B9V6\", FUND=\"29314151\")  # 国内債券     (ニッセイ内債)\n",
    "df_jpn_reit = get_data(ISIN=\"JP90C00099G5\", FUND=\"29314136\")  # 国内リート   (ニッセイJリート)\n",
    "df_dvp_stck = get_data(ISIN=\"JP90C0009VE0\", FUND=\"2931113C\")  # 先進国株式   (ニッセイ外株インデックス)\n",
    "df_dvp_bond = get_data(ISIN=\"JP90C0009VF7\", FUND=\"2931213C\")  # 先進国債券   (ニッセイ先進国債券)\n",
    "df_dvp_reit = get_data(ISIN=\"JP90C0009VG5\", FUND=\"2931313C\")  # 先進国リート (ニッセイグローバルリート)\n",
    "df_emg_stck = get_data(ISIN=\"JP90C0006LK4\", FUND=\"0331809A\")  # 新興国株式   (MUFJ eMAXIS インデックス)\n",
    "df_emg_bond = get_data(ISIN=\"JP90C000DVU2\", FUND=\"0431U169\")  # 新興国債券   (大和 iFree 新興国債券)\n",
    "df_world_stck = get_data(ISIN=\"JP90C000H1T1\", FUND=\"0331418A\")  # 全世界株式  (emaxis slim 全世界株式 オールカントリー)"
   ]
  },
  {
   "cell_type": "code",
   "execution_count": 4,
   "id": "5c34a529-a86d-48a2-9d14-880a62be44f9",
   "metadata": {},
   "outputs": [],
   "source": [
    "# 取得データを設定期間だけ抽出し結合する関数\n",
    "def join_data(df_part, df_join, KEYWORD, str_date, end_date):\n",
    "    \"\"\"\n",
    "    引数\n",
    "    df_part ... 各資産クラスのデータフレーム\n",
    "    df_join ... 複数の資産クラスを結合したデータフレーム\n",
    "    KEYWORD ... 資産クラス名\n",
    "    str_date ... 抽出期間の開始日\n",
    "    end_date ... 抽出期間の終了日\n",
    "    戻値\n",
    "    df_join ... 複数の資産クラスを結合したデータフレーム\n",
    "    \"\"\"\n",
    "    # 各資産クラスのデータフレームを期間抽出\n",
    "    df_part_fil = df_part.loc[(df_part.index>=str_date)&(df_part.index<=end_date), :]\n",
    "    df_part_fil = df_part_fil.rename(columns={\"基準価額(円)\":KEYWORD})[[KEYWORD]]\n",
    "    # 複数の資産クラスを結合\n",
    "    df_join = pd.merge(df_join, df_part_fil, left_index=True, right_index=True, how=\"inner\") if df_join is not None else df_part_fil\n",
    "    return df_join"
   ]
  },
  {
   "cell_type": "code",
   "execution_count": 5,
   "id": "84c421d9-0a5f-4147-a27b-8d1bd35d7e86",
   "metadata": {},
   "outputs": [],
   "source": [
    "# 資産クラス名とデータフレームの変数を組み合わせる\n",
    "dict_assets = {\n",
    "    \"国内株式\"     : df_jpn_stck,\n",
    "    \"国内債券\"     : df_jpn_bond,\n",
    "    \"国内リート\"   : df_jpn_reit,\n",
    "    \"先進国株式\"   : df_dvp_stck,\n",
    "    \"先進国債券\"   : df_dvp_bond,\n",
    "    \"先進国リート\" : df_dvp_reit,\n",
    "    \"新興国株式\"   : df_emg_stck,\n",
    "    \"新興国債券\"   : df_emg_bond,\n",
    "    \"全世界株式\"   : df_world_stck\n",
    "}\n",
    "\n",
    "# 取得データを直近過去5年間だけ抽出し結合\n",
    "# (※注:  データの日付が抽出期間未満の場合、結合データも少なくなる)\n",
    "df_join = None\n",
    "str_date = \"2001-04-01\"  # 抽出開始日\n",
    "end_date = \"2022-06-30\"  # 抽出終了日\n",
    "# 資産クラス名とデータフレームの変数の組み合わせを横方向に結合\n",
    "for KEYWORD, df_part in dict_assets.items():\n",
    "    df_join = join_data(df_part, df_join, KEYWORD, str_date, end_date)\n",
    "\n",
    "df_join.to_csv('assets_class.csv')"
   ]
  },
  {
   "cell_type": "code",
   "execution_count": null,
   "id": "561082f9-2f8d-44fe-8e96-983e511e5721",
   "metadata": {},
   "outputs": [],
   "source": []
  }
 ],
 "metadata": {
  "kernelspec": {
   "display_name": "Python 3.9.13 64-bit",
   "language": "python",
   "name": "python3"
  },
  "language_info": {
   "codemirror_mode": {
    "name": "ipython",
    "version": 3
   },
   "file_extension": ".py",
   "mimetype": "text/x-python",
   "name": "python",
   "nbconvert_exporter": "python",
   "pygments_lexer": "ipython3",
   "version": "3.9.13"
  },
  "vscode": {
   "interpreter": {
    "hash": "aee8b7b246df8f9039afb4144a1f6fd8d2ca17a180786b69acc140d282b71a49"
   }
  }
 },
 "nbformat": 4,
 "nbformat_minor": 5
}
